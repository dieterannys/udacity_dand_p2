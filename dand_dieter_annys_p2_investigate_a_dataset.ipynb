{
 "cells": [
  {
   "cell_type": "markdown",
   "metadata": {},
   "source": [
    "# Project 2: Investigate a Dataset\n",
    "\n",
    "*by Dieter Annys*\n",
    "\n",
    "---"
   ]
  },
  {
   "cell_type": "code",
   "execution_count": 1,
   "metadata": {
    "collapsed": false
   },
   "outputs": [],
   "source": [
    "# Importing libraries\n",
    "%matplotlib inline\n",
    "# %pdb\n",
    "from IPython.display import display\n",
    "import pandas as pd\n",
    "import numpy as np\n",
    "from matplotlib import pyplot as plt\n",
    "from math import sqrt, isnan"
   ]
  },
  {
   "cell_type": "markdown",
   "metadata": {},
   "source": [
    "## Dataset\n",
    "\n",
    "This project is based on the **Titanic Dataset**\n",
    "\n",
    "The following is a first look at the set\n",
    "- counting the records\n",
    "- displaying the top of the dataframe to get a feel for what the data looks like\n",
    "- looking at the column descriptions"
   ]
  },
  {
   "cell_type": "code",
   "execution_count": 2,
   "metadata": {
    "collapsed": false
   },
   "outputs": [
    {
     "name": "stdout",
     "output_type": "stream",
     "text": [
      "There are 891 datapoints in this dataset.\n"
     ]
    },
    {
     "data": {
      "text/html": [
       "<div>\n",
       "<table border=\"1\" class=\"dataframe\">\n",
       "  <thead>\n",
       "    <tr style=\"text-align: right;\">\n",
       "      <th></th>\n",
       "      <th>PassengerId</th>\n",
       "      <th>Survived</th>\n",
       "      <th>Pclass</th>\n",
       "      <th>Name</th>\n",
       "      <th>Sex</th>\n",
       "      <th>Age</th>\n",
       "      <th>SibSp</th>\n",
       "      <th>Parch</th>\n",
       "      <th>Ticket</th>\n",
       "      <th>Fare</th>\n",
       "      <th>Cabin</th>\n",
       "      <th>Embarked</th>\n",
       "    </tr>\n",
       "  </thead>\n",
       "  <tbody>\n",
       "    <tr>\n",
       "      <th>0</th>\n",
       "      <td>1</td>\n",
       "      <td>0</td>\n",
       "      <td>3</td>\n",
       "      <td>Braund, Mr. Owen Harris</td>\n",
       "      <td>male</td>\n",
       "      <td>22.0</td>\n",
       "      <td>1</td>\n",
       "      <td>0</td>\n",
       "      <td>A/5 21171</td>\n",
       "      <td>7.2500</td>\n",
       "      <td>NaN</td>\n",
       "      <td>S</td>\n",
       "    </tr>\n",
       "    <tr>\n",
       "      <th>1</th>\n",
       "      <td>2</td>\n",
       "      <td>1</td>\n",
       "      <td>1</td>\n",
       "      <td>Cumings, Mrs. John Bradley (Florence Briggs Th...</td>\n",
       "      <td>female</td>\n",
       "      <td>38.0</td>\n",
       "      <td>1</td>\n",
       "      <td>0</td>\n",
       "      <td>PC 17599</td>\n",
       "      <td>71.2833</td>\n",
       "      <td>C85</td>\n",
       "      <td>C</td>\n",
       "    </tr>\n",
       "    <tr>\n",
       "      <th>2</th>\n",
       "      <td>3</td>\n",
       "      <td>1</td>\n",
       "      <td>3</td>\n",
       "      <td>Heikkinen, Miss. Laina</td>\n",
       "      <td>female</td>\n",
       "      <td>26.0</td>\n",
       "      <td>0</td>\n",
       "      <td>0</td>\n",
       "      <td>STON/O2. 3101282</td>\n",
       "      <td>7.9250</td>\n",
       "      <td>NaN</td>\n",
       "      <td>S</td>\n",
       "    </tr>\n",
       "    <tr>\n",
       "      <th>3</th>\n",
       "      <td>4</td>\n",
       "      <td>1</td>\n",
       "      <td>1</td>\n",
       "      <td>Futrelle, Mrs. Jacques Heath (Lily May Peel)</td>\n",
       "      <td>female</td>\n",
       "      <td>35.0</td>\n",
       "      <td>1</td>\n",
       "      <td>0</td>\n",
       "      <td>113803</td>\n",
       "      <td>53.1000</td>\n",
       "      <td>C123</td>\n",
       "      <td>S</td>\n",
       "    </tr>\n",
       "    <tr>\n",
       "      <th>4</th>\n",
       "      <td>5</td>\n",
       "      <td>0</td>\n",
       "      <td>3</td>\n",
       "      <td>Allen, Mr. William Henry</td>\n",
       "      <td>male</td>\n",
       "      <td>35.0</td>\n",
       "      <td>0</td>\n",
       "      <td>0</td>\n",
       "      <td>373450</td>\n",
       "      <td>8.0500</td>\n",
       "      <td>NaN</td>\n",
       "      <td>S</td>\n",
       "    </tr>\n",
       "  </tbody>\n",
       "</table>\n",
       "</div>"
      ],
      "text/plain": [
       "   PassengerId  Survived  Pclass  \\\n",
       "0            1         0       3   \n",
       "1            2         1       1   \n",
       "2            3         1       3   \n",
       "3            4         1       1   \n",
       "4            5         0       3   \n",
       "\n",
       "                                                Name     Sex   Age  SibSp  \\\n",
       "0                            Braund, Mr. Owen Harris    male  22.0      1   \n",
       "1  Cumings, Mrs. John Bradley (Florence Briggs Th...  female  38.0      1   \n",
       "2                             Heikkinen, Miss. Laina  female  26.0      0   \n",
       "3       Futrelle, Mrs. Jacques Heath (Lily May Peel)  female  35.0      1   \n",
       "4                           Allen, Mr. William Henry    male  35.0      0   \n",
       "\n",
       "   Parch            Ticket     Fare Cabin Embarked  \n",
       "0      0         A/5 21171   7.2500   NaN        S  \n",
       "1      0          PC 17599  71.2833   C85        C  \n",
       "2      0  STON/O2. 3101282   7.9250   NaN        S  \n",
       "3      0            113803  53.1000  C123        S  \n",
       "4      0            373450   8.0500   NaN        S  "
      ]
     },
     "execution_count": 2,
     "metadata": {},
     "output_type": "execute_result"
    }
   ],
   "source": [
    "# Importing the dataset\n",
    "titanic = pd.read_csv(\"titanic-data.csv\")\n",
    "print(\"There are {} datapoints in this dataset.\".format(len(titanic.index)))\n",
    "titanic.head()"
   ]
  },
  {
   "cell_type": "markdown",
   "metadata": {},
   "source": [
    "Column descriptions copied from Kaggle:\n",
    "\n",
    "    survival        Survival\n",
    "                    (0 = No; 1 = Yes)\n",
    "    pclass          Passenger Class\n",
    "                    (1 = 1st; 2 = 2nd; 3 = 3rd)\n",
    "    name            Name\n",
    "    sex             Sex\n",
    "    age             Age\n",
    "    sibsp           Number of Siblings/Spouses Aboard\n",
    "    parch           Number of Parents/Children Aboard\n",
    "    ticket          Ticket Number\n",
    "    fare            Passenger Fare\n",
    "    cabin           Cabin\n",
    "    embarked        Port of Embarkation\n",
    "                    (C = Cherbourg; Q = Queenstown; S = Southampton)\n",
    "\n",
    "    SPECIAL NOTES:\n",
    "    Pclass is a proxy for socio-economic status (SES)\n",
    "     1st ~ Upper; 2nd ~ Middle; 3rd ~ Lower\n",
    "\n",
    "    Age is in Years; Fractional if Age less than One (1)\n",
    "     If the Age is Estimated, it is in the form xx.5\n",
    "\n",
    "    With respect to the family relation variables (i.e. sibsp and parch)\n",
    "    some relations were ignored.  The following are the definitions used\n",
    "    for sibsp and parch.\n",
    "\n",
    "    Sibling:  Brother, Sister, Stepbrother, or Stepsister of Passenger Aboard Titanic\n",
    "    Spouse:   Husband or Wife of Passenger Aboard Titanic (Mistresses and Fiances Ignored)\n",
    "    Parent:   Mother or Father of Passenger Aboard Titanic\n",
    "    Child:    Son, Daughter, Stepson, or Stepdaughter of Passenger Aboard Titanic\n",
    "\n",
    "    Other family relatives excluded from this study include cousins,\n",
    "    nephews/nieces, aunts/uncles, and in-laws.  Some children travelled\n",
    "    only with a nanny, therefore parch=0 for them.  As well, some\n",
    "    travelled with very close friends or neighbors in a village, however,\n",
    "    the definitions do not support such relations."
   ]
  },
  {
   "cell_type": "markdown",
   "metadata": {},
   "source": [
    "## First Questions\n",
    "\n",
    "While looking at the information above, these were the questions that sprung to mind\n",
    "\n",
    "- Women and children first: did a higher percentage of women and people below a certain age survive versus survivel percentage in adult males?\n",
    "\n",
    "- Did having 'people to worry about' influence survival rate? How about parents/children vs siblings/spouses? Or more specifically, people with 0 siblings/spouses but 1 or more parents/children, or vice versa.\n",
    "\n",
    "- What is the age distribution for women on board who are married vs unmarried?"
   ]
  },
  {
   "cell_type": "markdown",
   "metadata": {},
   "source": [
    "## Data Wrangling\n",
    "\n",
    "I'll perform the following operations on the dataset:\n",
    "\n",
    "- Split the Name into 4 new columns: title, first_names, last_name, extra_names\n",
    "- Split off the ticket number from Ticket\n",
    "- Create a new column called Family, adding up SibSp and Parch"
   ]
  },
  {
   "cell_type": "code",
   "execution_count": 3,
   "metadata": {
    "collapsed": false
   },
   "outputs": [],
   "source": [
    "# Split name into title, first_names, last_name, extra_names\n",
    "def split_name(name):\n",
    "    # Extra names is the part in parentheses. If present, put this part in extra_names\n",
    "    if \"(\" in name:\n",
    "        name = name.split(\"(\")\n",
    "        extra_names = name[1].replace(\")\", \"\")\n",
    "        name = name[0]\n",
    "    else:\n",
    "        extra_names = None\n",
    "    name = name.split(\",\")\n",
    "    last_name = name[0]\n",
    "    name = name[1].strip().split(\".\", 1)\n",
    "    if len(name) == 1:\n",
    "        name.append(\"\")\n",
    "    title, first_names = name\n",
    "    return title, first_names, last_name, extra_names\n",
    "\n",
    "tmp_data = titanic[\"Name\"].apply(split_name)\n",
    "titanic[\"Title\"] = tmp_data.apply(lambda x: x[0])\n",
    "titanic[\"First_Names\"] = tmp_data.apply(lambda x: x[1])\n",
    "titanic[\"Last_Name\"] = tmp_data.apply(lambda x: x[2])\n",
    "titanic[\"Extra_Names\"] = tmp_data.apply(lambda x: x[3])"
   ]
  },
  {
   "cell_type": "code",
   "execution_count": 4,
   "metadata": {
    "collapsed": false
   },
   "outputs": [],
   "source": [
    "# Get ticket number seperately to column ticket_nr\n",
    "def split_ticket(ticket):\n",
    "    ticket = ticket.split(\" \")\n",
    "    if ticket[-1].isdigit():\n",
    "        return int(ticket[-1])\n",
    "    return\n",
    "    \n",
    "titanic[\"Ticket_Nr\"] = titanic[\"Ticket\"].apply(split_ticket)"
   ]
  },
  {
   "cell_type": "code",
   "execution_count": 5,
   "metadata": {
    "collapsed": false
   },
   "outputs": [],
   "source": [
    "# Add a column Family adding up siblings, spouses, parents and children\n",
    "titanic[\"Family\"] = titanic[\"SibSp\"] + titanic[\"Parch\"]"
   ]
  },
  {
   "cell_type": "code",
   "execution_count": 6,
   "metadata": {
    "collapsed": false
   },
   "outputs": [
    {
     "data": {
      "text/html": [
       "<div>\n",
       "<table border=\"1\" class=\"dataframe\">\n",
       "  <thead>\n",
       "    <tr style=\"text-align: right;\">\n",
       "      <th></th>\n",
       "      <th>PassengerId</th>\n",
       "      <th>Survived</th>\n",
       "      <th>Pclass</th>\n",
       "      <th>Name</th>\n",
       "      <th>Sex</th>\n",
       "      <th>Age</th>\n",
       "      <th>SibSp</th>\n",
       "      <th>Parch</th>\n",
       "      <th>Ticket</th>\n",
       "      <th>Fare</th>\n",
       "      <th>Cabin</th>\n",
       "      <th>Embarked</th>\n",
       "      <th>Title</th>\n",
       "      <th>First_Names</th>\n",
       "      <th>Last_Name</th>\n",
       "      <th>Extra_Names</th>\n",
       "      <th>Ticket_Nr</th>\n",
       "      <th>Family</th>\n",
       "    </tr>\n",
       "  </thead>\n",
       "  <tbody>\n",
       "    <tr>\n",
       "      <th>0</th>\n",
       "      <td>1</td>\n",
       "      <td>0</td>\n",
       "      <td>3</td>\n",
       "      <td>Braund, Mr. Owen Harris</td>\n",
       "      <td>male</td>\n",
       "      <td>22.0</td>\n",
       "      <td>1</td>\n",
       "      <td>0</td>\n",
       "      <td>A/5 21171</td>\n",
       "      <td>7.2500</td>\n",
       "      <td>NaN</td>\n",
       "      <td>S</td>\n",
       "      <td>Mr</td>\n",
       "      <td>Owen Harris</td>\n",
       "      <td>Braund</td>\n",
       "      <td>None</td>\n",
       "      <td>21171.0</td>\n",
       "      <td>1</td>\n",
       "    </tr>\n",
       "    <tr>\n",
       "      <th>1</th>\n",
       "      <td>2</td>\n",
       "      <td>1</td>\n",
       "      <td>1</td>\n",
       "      <td>Cumings, Mrs. John Bradley (Florence Briggs Th...</td>\n",
       "      <td>female</td>\n",
       "      <td>38.0</td>\n",
       "      <td>1</td>\n",
       "      <td>0</td>\n",
       "      <td>PC 17599</td>\n",
       "      <td>71.2833</td>\n",
       "      <td>C85</td>\n",
       "      <td>C</td>\n",
       "      <td>Mrs</td>\n",
       "      <td>John Bradley</td>\n",
       "      <td>Cumings</td>\n",
       "      <td>Florence Briggs Thayer</td>\n",
       "      <td>17599.0</td>\n",
       "      <td>1</td>\n",
       "    </tr>\n",
       "    <tr>\n",
       "      <th>2</th>\n",
       "      <td>3</td>\n",
       "      <td>1</td>\n",
       "      <td>3</td>\n",
       "      <td>Heikkinen, Miss. Laina</td>\n",
       "      <td>female</td>\n",
       "      <td>26.0</td>\n",
       "      <td>0</td>\n",
       "      <td>0</td>\n",
       "      <td>STON/O2. 3101282</td>\n",
       "      <td>7.9250</td>\n",
       "      <td>NaN</td>\n",
       "      <td>S</td>\n",
       "      <td>Miss</td>\n",
       "      <td>Laina</td>\n",
       "      <td>Heikkinen</td>\n",
       "      <td>None</td>\n",
       "      <td>3101282.0</td>\n",
       "      <td>0</td>\n",
       "    </tr>\n",
       "    <tr>\n",
       "      <th>3</th>\n",
       "      <td>4</td>\n",
       "      <td>1</td>\n",
       "      <td>1</td>\n",
       "      <td>Futrelle, Mrs. Jacques Heath (Lily May Peel)</td>\n",
       "      <td>female</td>\n",
       "      <td>35.0</td>\n",
       "      <td>1</td>\n",
       "      <td>0</td>\n",
       "      <td>113803</td>\n",
       "      <td>53.1000</td>\n",
       "      <td>C123</td>\n",
       "      <td>S</td>\n",
       "      <td>Mrs</td>\n",
       "      <td>Jacques Heath</td>\n",
       "      <td>Futrelle</td>\n",
       "      <td>Lily May Peel</td>\n",
       "      <td>113803.0</td>\n",
       "      <td>1</td>\n",
       "    </tr>\n",
       "    <tr>\n",
       "      <th>4</th>\n",
       "      <td>5</td>\n",
       "      <td>0</td>\n",
       "      <td>3</td>\n",
       "      <td>Allen, Mr. William Henry</td>\n",
       "      <td>male</td>\n",
       "      <td>35.0</td>\n",
       "      <td>0</td>\n",
       "      <td>0</td>\n",
       "      <td>373450</td>\n",
       "      <td>8.0500</td>\n",
       "      <td>NaN</td>\n",
       "      <td>S</td>\n",
       "      <td>Mr</td>\n",
       "      <td>William Henry</td>\n",
       "      <td>Allen</td>\n",
       "      <td>None</td>\n",
       "      <td>373450.0</td>\n",
       "      <td>0</td>\n",
       "    </tr>\n",
       "  </tbody>\n",
       "</table>\n",
       "</div>"
      ],
      "text/plain": [
       "   PassengerId  Survived  Pclass  \\\n",
       "0            1         0       3   \n",
       "1            2         1       1   \n",
       "2            3         1       3   \n",
       "3            4         1       1   \n",
       "4            5         0       3   \n",
       "\n",
       "                                                Name     Sex   Age  SibSp  \\\n",
       "0                            Braund, Mr. Owen Harris    male  22.0      1   \n",
       "1  Cumings, Mrs. John Bradley (Florence Briggs Th...  female  38.0      1   \n",
       "2                             Heikkinen, Miss. Laina  female  26.0      0   \n",
       "3       Futrelle, Mrs. Jacques Heath (Lily May Peel)  female  35.0      1   \n",
       "4                           Allen, Mr. William Henry    male  35.0      0   \n",
       "\n",
       "   Parch            Ticket     Fare Cabin Embarked Title     First_Names  \\\n",
       "0      0         A/5 21171   7.2500   NaN        S    Mr     Owen Harris   \n",
       "1      0          PC 17599  71.2833   C85        C   Mrs    John Bradley   \n",
       "2      0  STON/O2. 3101282   7.9250   NaN        S  Miss           Laina   \n",
       "3      0            113803  53.1000  C123        S   Mrs   Jacques Heath   \n",
       "4      0            373450   8.0500   NaN        S    Mr   William Henry   \n",
       "\n",
       "   Last_Name             Extra_Names  Ticket_Nr  Family  \n",
       "0     Braund                    None    21171.0       1  \n",
       "1    Cumings  Florence Briggs Thayer    17599.0       1  \n",
       "2  Heikkinen                    None  3101282.0       0  \n",
       "3   Futrelle           Lily May Peel   113803.0       1  \n",
       "4      Allen                    None   373450.0       0  "
      ]
     },
     "execution_count": 6,
     "metadata": {},
     "output_type": "execute_result"
    }
   ],
   "source": [
    "# Looking at what the manipulated data looks like\n",
    "titanic.head()"
   ]
  },
  {
   "cell_type": "markdown",
   "metadata": {},
   "source": [
    "## Data Exploration"
   ]
  },
  {
   "cell_type": "markdown",
   "metadata": {},
   "source": [
    "### Survival by age\n",
    "\n",
    "I start by exploring the age distribution amongs survivors vs non-survivors.\n",
    "\n",
    "The next graph shows histograms of both the total age distribution (blue) and the age distribution of survivors (green)."
   ]
  },
  {
   "cell_type": "code",
   "execution_count": 7,
   "metadata": {
    "collapsed": false
   },
   "outputs": [
    {
     "name": "stderr",
     "output_type": "stream",
     "text": [
      "C:\\ProgramData\\Anaconda3\\envs\\DAND\\lib\\site-packages\\numpy\\lib\\function_base.py:583: RuntimeWarning: invalid value encountered in greater_equal\n",
      "  keep = (tmp_a >= mn)\n",
      "C:\\ProgramData\\Anaconda3\\envs\\DAND\\lib\\site-packages\\numpy\\lib\\function_base.py:584: RuntimeWarning: invalid value encountered in less_equal\n",
      "  keep &= (tmp_a <= mx)\n"
     ]
    },
    {
     "data": {
      "image/png": "[encoded data removed]",
      "text/plain": [
       "<matplotlib.figure.Figure at 0x826c6d8>"
      ]
     },
     "metadata": {},
     "output_type": "display_data"
    }
   ],
   "source": [
    "titanic_grp_survived = titanic.groupby(\"Survived\")\n",
    "returns = plt.hist( titanic[\"Age\"], range=[0,100], bins=20)\n",
    "binned_ages_all = np.array(returns[0])\n",
    "bins_ages = np.array(returns[1])\n",
    "returns = plt.hist(titanic_grp_survived.get_group(1)[\"Age\"], range=[0,100], bins=20)\n",
    "binned_ages_survived = np.array(returns[0])"
   ]
  },
  {
   "cell_type": "markdown",
   "metadata": {},
   "source": [
    "Obviously looking at any one age group and looking at how many survived, doesn't say much without looking at the numbers relative to the total amount of passengers within that age group. In the above graphs it is obvious there is a difference in relative survival rates. To make this clearer, the following graph shows survival rates proportional to total amount of subjects per age group."
   ]
  },
  {
   "cell_type": "code",
   "execution_count": 8,
   "metadata": {
    "collapsed": false
   },
   "outputs": [
    {
     "data": {
      "text/plain": [
       "<Container object of 20 artists>"
      ]
     },
     "execution_count": 8,
     "metadata": {},
     "output_type": "execute_result"
    },
    {
     "data": {
      "image/png": "[encoded data removed]",
      "text/plain": [
       "<matplotlib.figure.Figure at 0x8239550>"
      ]
     },
     "metadata": {},
     "output_type": "display_data"
    }
   ],
   "source": [
    "# Calculating the relative survival rate per bin and showing in a barchart\n",
    "# During division, taking advantage of booleans being treated as 1's and 0's during additions\n",
    "# This to avoid dividing by 0\n",
    "binned_ages_relative_survival = binned_ages_survived / (binned_ages_all + (binned_ages_all == 0))\n",
    "plt.bar(bins_ages[:-1], binned_ages_relative_survival, width=5)"
   ]
  },
  {
   "cell_type": "markdown",
   "metadata": {},
   "source": [
    "#### Conclusions\n",
    "- Because the previous graph shows the amount of people declines as age increases, it's hard to come to conclusions about the higher end of the age range. Basically, if we would look at each bin being a sample, for the upper end of age, the sample size would not be large enough to say anything sensible. Look for example at the lucky 100% of 80-85 year olds being rescued, being 1 person. I conclude not much can be said about age being a predictor of survival above 60 to 65.\n",
    "- Under 65 we can see the graph stays quite uniform until dropping under 10 years old when survival goes up.\n",
    "- This indicates being a child was a good predictor for survival."
   ]
  },
  {
   "cell_type": "markdown",
   "metadata": {},
   "source": [
    "### Survival statistics between males/females and children/adults\n",
    "\n",
    "I decide to take a more discrete approach, doing some more data wrangling by separating passengers into 3 groups:\n",
    "- Children (age < 12)\n",
    "- Male adults\n",
    "- Female adults\n",
    "\n",
    "For each pair, (male, female), (male, child), (female, child), I state the following hypotheses:\n",
    "$$H_0 \\rightarrow \\mu_1 = \\mu_2$$\n",
    "$$H_A \\rightarrow \\mu_1 \\ne \\mu_2$$\n",
    "With $\\mu_1$ and $\\mu_2$ being the population means for group 1 and 2 of each pair respectively. In other words, the null hypothesis for each pair states that survival chances for one group is not significantly different from the other group.\n",
    "\n",
    "I then create a table showing the counts and mean survival rates for each group. Looking at other statistics doesn't make much sense, since Survival is a discrete either/or value, so medians, min/max or SD wouldn't provide insight.\n",
    "\n",
    "As confirmation afterwards, I also check whether I can safely assume I can throw male and female children into one container by looking at the difference in survival rates between the two."
   ]
  },
  {
   "cell_type": "code",
   "execution_count": 9,
   "metadata": {
    "collapsed": false
   },
   "outputs": [
    {
     "data": {
      "text/html": [
       "<div>\n",
       "<table border=\"1\" class=\"dataframe\">\n",
       "  <thead>\n",
       "    <tr style=\"text-align: right;\">\n",
       "      <th></th>\n",
       "      <th>n</th>\n",
       "      <th>mean</th>\n",
       "      <th>n_survived</th>\n",
       "      <th>n_not_survived</th>\n",
       "    </tr>\n",
       "    <tr>\n",
       "      <th>mwc</th>\n",
       "      <th></th>\n",
       "      <th></th>\n",
       "      <th></th>\n",
       "      <th></th>\n",
       "    </tr>\n",
       "  </thead>\n",
       "  <tbody>\n",
       "    <tr>\n",
       "      <th>child</th>\n",
       "      <td>68</td>\n",
       "      <td>0.573529</td>\n",
       "      <td>39.0</td>\n",
       "      <td>29.0</td>\n",
       "    </tr>\n",
       "    <tr>\n",
       "      <th>female</th>\n",
       "      <td>282</td>\n",
       "      <td>0.758865</td>\n",
       "      <td>214.0</td>\n",
       "      <td>68.0</td>\n",
       "    </tr>\n",
       "    <tr>\n",
       "      <th>male</th>\n",
       "      <td>541</td>\n",
       "      <td>0.164510</td>\n",
       "      <td>89.0</td>\n",
       "      <td>452.0</td>\n",
       "    </tr>\n",
       "  </tbody>\n",
       "</table>\n",
       "</div>"
      ],
      "text/plain": [
       "          n      mean  n_survived  n_not_survived\n",
       "mwc                                              \n",
       "child    68  0.573529        39.0            29.0\n",
       "female  282  0.758865       214.0            68.0\n",
       "male    541  0.164510        89.0           452.0"
      ]
     },
     "execution_count": 9,
     "metadata": {},
     "output_type": "execute_result"
    }
   ],
   "source": [
    "# Separating passengers into 3 groups (men, women, children) and calculating their counts and means\n",
    "def mwc(row):\n",
    "    if row[\"Age\"] < 12:\n",
    "        return \"child\"\n",
    "    else:\n",
    "        return row[\"Sex\"]\n",
    "titanic[\"mwc\"] = titanic.apply(mwc, axis=1)\n",
    "\n",
    "# Calculating some stats\n",
    "titanic_mwc_stats = pd.concat([titanic.groupby(\"mwc\")[\"Survived\"].count(), titanic.groupby(\"mwc\")[\"Survived\"].mean()], axis=1)\n",
    "titanic_mwc_stats.columns = [\"n\", \"mean\"]\n",
    "titanic_mwc_stats[\"n_survived\"] = titanic_mwc_stats[\"n\"] * titanic_mwc_stats[\"mean\"]\n",
    "titanic_mwc_stats[\"n_not_survived\"] = titanic_mwc_stats[\"n\"] - titanic_mwc_stats[\"n_survived\"]\n",
    "titanic_mwc_stats"
   ]
  },
  {
   "cell_type": "code",
   "execution_count": 10,
   "metadata": {
    "collapsed": false
   },
   "outputs": [
    {
     "data": {
      "text/plain": [
       "Sex\n",
       "female    0.593750\n",
       "male      0.555556\n",
       "Name: Survived, dtype: float64"
      ]
     },
     "execution_count": 10,
     "metadata": {},
     "output_type": "execute_result"
    }
   ],
   "source": [
    "# Checking whether child survival rates are roughly equal among girls and boys\n",
    "titanic.groupby([\"mwc\",\"Sex\"])[\"Survived\"].mean().loc[\"child\"]"
   ]
  },
  {
   "cell_type": "markdown",
   "metadata": {},
   "source": [
    "I decide I can fairly safely assume children can be counted as one group in terms of survival rates (59% for girls vs 56% for boys).\n",
    "\n",
    "I now want to determine the significance of the differences between these values for men, women and children. Since this is nominal data, I'll perform several $\\chi^2$ tests to draw conclusions."
   ]
  },
  {
   "cell_type": "code",
   "execution_count": 11,
   "metadata": {
    "collapsed": false
   },
   "outputs": [],
   "source": [
    "# Function to calculate the chi squared value of any two means\n",
    "def chi_square(key1, key2):\n",
    "    observed = pd.concat([titanic_mwc_stats.loc[key1], titanic_mwc_stats.loc[key2]], axis=1).loc[[\"n_survived\", \"n_not_survived\"]]\n",
    "    df = (len(observed.index) - 1) * (len(observed.columns) - 1)\n",
    "    k = min(len(observed.index), len(observed.columns))\n",
    "    expected = observed.copy().applymap(lambda x: 0)\n",
    "    observed[\"rows_total\"] = observed.sum(axis=1)\n",
    "    observed = observed.append(observed.sum().rename(\"columns_total\"))\n",
    "    chi_sq = []\n",
    "    total = observed[\"rows_total\"].loc[\"columns_total\"]\n",
    "    for c in observed.columns.values[:-1]:\n",
    "        for i in observed.index.values[:-1]:\n",
    "            o = observed[c].loc[i]\n",
    "            e = observed[c].loc[\"columns_total\"] * observed[\"rows_total\"].loc[i] / total\n",
    "            expected[c].loc[i] = e\n",
    "            chi_sq.append((o - e) ** 2 / e)\n",
    "    chi_sq = sum(chi_sq)\n",
    "    effect_size = sqrt(chi_sq/((k-1)*total))\n",
    "    display(observed)\n",
    "#     display(expected)\n",
    "    print(\"Chi^2 for {key1} and {key2} is {chi_sq} for {df} dof\\nEffect size={effect_size}\".format(key1=key1, key2=key2, chi_sq=chi_sq, df=df, effect_size=effect_size))"
   ]
  },
  {
   "cell_type": "code",
   "execution_count": 12,
   "metadata": {
    "collapsed": false
   },
   "outputs": [
    {
     "name": "stderr",
     "output_type": "stream",
     "text": [
      "C:\\ProgramData\\Anaconda3\\envs\\DAND\\lib\\site-packages\\pandas\\core\\indexing.py:140: SettingWithCopyWarning: \n",
      "A value is trying to be set on a copy of a slice from a DataFrame\n",
      "\n",
      "See the caveats in the documentation: http://pandas.pydata.org/pandas-docs/stable/indexing.html#indexing-view-versus-copy\n",
      "  self._setitem_with_indexer(indexer, value)\n"
     ]
    },
    {
     "data": {
      "text/html": [
       "<div>\n",
       "<table border=\"1\" class=\"dataframe\">\n",
       "  <thead>\n",
       "    <tr style=\"text-align: right;\">\n",
       "      <th></th>\n",
       "      <th>male</th>\n",
       "      <th>female</th>\n",
       "      <th>rows_total</th>\n",
       "    </tr>\n",
       "  </thead>\n",
       "  <tbody>\n",
       "    <tr>\n",
       "      <th>n_survived</th>\n",
       "      <td>89.0</td>\n",
       "      <td>214.0</td>\n",
       "      <td>303.0</td>\n",
       "    </tr>\n",
       "    <tr>\n",
       "      <th>n_not_survived</th>\n",
       "      <td>452.0</td>\n",
       "      <td>68.0</td>\n",
       "      <td>520.0</td>\n",
       "    </tr>\n",
       "    <tr>\n",
       "      <th>columns_total</th>\n",
       "      <td>541.0</td>\n",
       "      <td>282.0</td>\n",
       "      <td>823.0</td>\n",
       "    </tr>\n",
       "  </tbody>\n",
       "</table>\n",
       "</div>"
      ],
      "text/plain": [
       "                 male  female  rows_total\n",
       "n_survived       89.0   214.0       303.0\n",
       "n_not_survived  452.0    68.0       520.0\n",
       "columns_total   541.0   282.0       823.0"
      ]
     },
     "metadata": {},
     "output_type": "display_data"
    },
    {
     "name": "stdout",
     "output_type": "stream",
     "text": [
      "Chi^2 for male and female is 281.508943736 for 1 dof\n",
      "Effect size=0.584852271526\n"
     ]
    },
    {
     "data": {
      "text/html": [
       "<div>\n",
       "<table border=\"1\" class=\"dataframe\">\n",
       "  <thead>\n",
       "    <tr style=\"text-align: right;\">\n",
       "      <th></th>\n",
       "      <th>male</th>\n",
       "      <th>child</th>\n",
       "      <th>rows_total</th>\n",
       "    </tr>\n",
       "  </thead>\n",
       "  <tbody>\n",
       "    <tr>\n",
       "      <th>n_survived</th>\n",
       "      <td>89.0</td>\n",
       "      <td>39.0</td>\n",
       "      <td>128.0</td>\n",
       "    </tr>\n",
       "    <tr>\n",
       "      <th>n_not_survived</th>\n",
       "      <td>452.0</td>\n",
       "      <td>29.0</td>\n",
       "      <td>481.0</td>\n",
       "    </tr>\n",
       "    <tr>\n",
       "      <th>columns_total</th>\n",
       "      <td>541.0</td>\n",
       "      <td>68.0</td>\n",
       "      <td>609.0</td>\n",
       "    </tr>\n",
       "  </tbody>\n",
       "</table>\n",
       "</div>"
      ],
      "text/plain": [
       "                 male  child  rows_total\n",
       "n_survived       89.0   39.0       128.0\n",
       "n_not_survived  452.0   29.0       481.0\n",
       "columns_total   541.0   68.0       609.0"
      ]
     },
     "metadata": {},
     "output_type": "display_data"
    },
    {
     "name": "stdout",
     "output_type": "stream",
     "text": [
      "Chi^2 for male and child is 60.877374036 for 1 dof\n",
      "Effect size=0.316169017062\n"
     ]
    },
    {
     "data": {
      "text/html": [
       "<div>\n",
       "<table border=\"1\" class=\"dataframe\">\n",
       "  <thead>\n",
       "    <tr style=\"text-align: right;\">\n",
       "      <th></th>\n",
       "      <th>female</th>\n",
       "      <th>child</th>\n",
       "      <th>rows_total</th>\n",
       "    </tr>\n",
       "  </thead>\n",
       "  <tbody>\n",
       "    <tr>\n",
       "      <th>n_survived</th>\n",
       "      <td>214.0</td>\n",
       "      <td>39.0</td>\n",
       "      <td>253.0</td>\n",
       "    </tr>\n",
       "    <tr>\n",
       "      <th>n_not_survived</th>\n",
       "      <td>68.0</td>\n",
       "      <td>29.0</td>\n",
       "      <td>97.0</td>\n",
       "    </tr>\n",
       "    <tr>\n",
       "      <th>columns_total</th>\n",
       "      <td>282.0</td>\n",
       "      <td>68.0</td>\n",
       "      <td>350.0</td>\n",
       "    </tr>\n",
       "  </tbody>\n",
       "</table>\n",
       "</div>"
      ],
      "text/plain": [
       "                female  child  rows_total\n",
       "n_survived       214.0   39.0       253.0\n",
       "n_not_survived    68.0   29.0        97.0\n",
       "columns_total    282.0   68.0       350.0"
      ]
     },
     "metadata": {},
     "output_type": "display_data"
    },
    {
     "name": "stdout",
     "output_type": "stream",
     "text": [
      "Chi^2 for female and child is 9.39404453671 for 1 dof\n",
      "Effect size=0.163829567685\n"
     ]
    }
   ],
   "source": [
    "# Calculating Chi^2 for each pair\n",
    "chi_square(\"male\", \"female\")\n",
    "chi_square(\"male\", \"child\")\n",
    "chi_square(\"female\", \"child\")"
   ]
  },
  {
   "cell_type": "markdown",
   "metadata": {},
   "source": [
    "If I now use [GraphPad](http://www.graphpad.com/quickcalcs/pValue1/) to calculate the P value for each chi^2:\n",
    "- male/female: $P < 0.0001$\n",
    "- male/child: $P < 0.0001$\n",
    "- female/child: $P = 0.0022$"
   ]
  },
  {
   "cell_type": "markdown",
   "metadata": {},
   "source": [
    "#### Conclusions\n",
    "\n",
    "For all 3 pair we can **reject the null** for an $\\alpha$ level of at least 0.01:\n",
    "- Females had a significantly higher chance of survival (76%) than males (16%) (P < 0.0001), effect size being large according to Cohen ($> 0.50$)\n",
    "- Females had a significantly higher chance of survival (76%) than children (57%) (P = 0.0022), effect size being small ($> 0.10$)\n",
    "- Children had a significantly higher chance of survival (57%) than males (16%) (P < 0.0001), effect size being medium ($> 0.30$)"
   ]
  },
  {
   "cell_type": "markdown",
   "metadata": {},
   "source": [
    "### Data analysis by title\n",
    "\n",
    "I'd now like to divide the dataset into groups by title (Mr, Mrs, Miss, ...)\n",
    "\n",
    "I'll compare the age distribution between titles, going a bit more in depth for married vs unmarried women (Mrs, Miss)"
   ]
  },
  {
   "cell_type": "code",
   "execution_count": 13,
   "metadata": {
    "collapsed": false
   },
   "outputs": [
    {
     "data": {
      "text/plain": [
       "Title\n",
       "Capt              1\n",
       "Col               2\n",
       "Don               1\n",
       "Dr                7\n",
       "Jonkheer          1\n",
       "Lady              1\n",
       "Major             2\n",
       "Master           40\n",
       "Miss            182\n",
       "Mlle              2\n",
       "Mme               1\n",
       "Mr              517\n",
       "Mrs             125\n",
       "Ms                1\n",
       "Rev               6\n",
       "Sir               1\n",
       "the Countess      1\n",
       "Name: Title, dtype: int64"
      ]
     },
     "execution_count": 13,
     "metadata": {},
     "output_type": "execute_result"
    }
   ],
   "source": [
    "# Preparing the groups, checking how many passengers there are per title\n",
    "titanic_grp_title = titanic.groupby(\"Title\")\n",
    "titles = titanic[\"Title\"].unique()\n",
    "cols_of_interest = [\"Survived\", \"Pclass\", \"Age\", \"Fare\"]\n",
    "titanic_grp_title[\"Title\"].count()"
   ]
  },
  {
   "cell_type": "markdown",
   "metadata": {},
   "source": [
    "A lot of titles only show up a few times, so I want to only concentrate on the titles that occur at least 10 times.\n",
    "\n",
    "Next, I plot boxplots of ages per title, and basic statistics"
   ]
  },
  {
   "cell_type": "code",
   "execution_count": 14,
   "metadata": {
    "collapsed": false
   },
   "outputs": [
    {
     "data": {
      "text/html": [
       "<div>\n",
       "<table border=\"1\" class=\"dataframe\">\n",
       "  <thead>\n",
       "    <tr style=\"text-align: right;\">\n",
       "      <th>Title</th>\n",
       "      <th>Master</th>\n",
       "      <th>Miss</th>\n",
       "      <th>Mr</th>\n",
       "      <th>Mrs</th>\n",
       "    </tr>\n",
       "  </thead>\n",
       "  <tbody>\n",
       "    <tr>\n",
       "      <th>count</th>\n",
       "      <td>36.000000</td>\n",
       "      <td>146.000000</td>\n",
       "      <td>398.000000</td>\n",
       "      <td>108.000000</td>\n",
       "    </tr>\n",
       "    <tr>\n",
       "      <th>mean</th>\n",
       "      <td>4.574167</td>\n",
       "      <td>21.773973</td>\n",
       "      <td>32.368090</td>\n",
       "      <td>35.898148</td>\n",
       "    </tr>\n",
       "    <tr>\n",
       "      <th>std</th>\n",
       "      <td>3.619872</td>\n",
       "      <td>12.990292</td>\n",
       "      <td>12.708793</td>\n",
       "      <td>11.433628</td>\n",
       "    </tr>\n",
       "    <tr>\n",
       "      <th>min</th>\n",
       "      <td>0.420000</td>\n",
       "      <td>0.750000</td>\n",
       "      <td>11.000000</td>\n",
       "      <td>14.000000</td>\n",
       "    </tr>\n",
       "    <tr>\n",
       "      <th>25%</th>\n",
       "      <td>1.000000</td>\n",
       "      <td>14.125000</td>\n",
       "      <td>23.000000</td>\n",
       "      <td>27.750000</td>\n",
       "    </tr>\n",
       "    <tr>\n",
       "      <th>50%</th>\n",
       "      <td>3.500000</td>\n",
       "      <td>21.000000</td>\n",
       "      <td>30.000000</td>\n",
       "      <td>35.000000</td>\n",
       "    </tr>\n",
       "    <tr>\n",
       "      <th>75%</th>\n",
       "      <td>8.000000</td>\n",
       "      <td>30.000000</td>\n",
       "      <td>39.000000</td>\n",
       "      <td>44.000000</td>\n",
       "    </tr>\n",
       "    <tr>\n",
       "      <th>max</th>\n",
       "      <td>12.000000</td>\n",
       "      <td>63.000000</td>\n",
       "      <td>80.000000</td>\n",
       "      <td>63.000000</td>\n",
       "    </tr>\n",
       "  </tbody>\n",
       "</table>\n",
       "</div>"
      ],
      "text/plain": [
       "Title     Master        Miss          Mr         Mrs\n",
       "count  36.000000  146.000000  398.000000  108.000000\n",
       "mean    4.574167   21.773973   32.368090   35.898148\n",
       "std     3.619872   12.990292   12.708793   11.433628\n",
       "min     0.420000    0.750000   11.000000   14.000000\n",
       "25%     1.000000   14.125000   23.000000   27.750000\n",
       "50%     3.500000   21.000000   30.000000   35.000000\n",
       "75%     8.000000   30.000000   39.000000   44.000000\n",
       "max    12.000000   63.000000   80.000000   63.000000"
      ]
     },
     "metadata": {},
     "output_type": "display_data"
    },
    {
     "data": {
      "text/plain": [
       "<matplotlib.axes._subplots.AxesSubplot at 0x9194550>"
      ]
     },
     "execution_count": 14,
     "metadata": {},
     "output_type": "execute_result"
    },
    {
     "data": {
      "image/png": "[encoded data removed]",
      "text/plain": [
       "<matplotlib.figure.Figure at 0x9185ac8>"
      ]
     },
     "metadata": {},
     "output_type": "display_data"
    }
   ],
   "source": [
    "# Generating a list of titles that occur at least 10 times, then filtering data based on these titles\n",
    "titles_often = titanic[\"Title\"].value_counts()[titanic[\"Title\"].value_counts() >= 10].index\n",
    "titanic_filt_title = titanic[titanic[\"Title\"].isin(titles_often)]\n",
    "titanic_filt_title_stats = titanic_filt_title.groupby(\"Title\")[\"Age\"].describe().unstack()\n",
    "display(titanic_filt_title_stats.transpose())\n",
    "titanic_filt_title.boxplot(column=\"Age\", by=\"Title\")"
   ]
  },
  {
   "cell_type": "markdown",
   "metadata": {},
   "source": [
    "According to some Wikipedia research, Master was commonly the title for boys not old enough yet to be called Mister, which shows from the data: The max value for Master is 12, whereas the min value for Mr is 11\n",
    "\n",
    "For women, the distinction lies I assume in being married or not married, so the titles Miss and Mrs are not tied to age directly.\n",
    "\n",
    "The legal age of marriage in the early 1900s was 12 for girls and 14 for boys. The minimum value in the Mrs category is 14 which also makes sense.\n",
    "\n",
    "The following is a histogram comparing age distribution of married vs unmarried women."
   ]
  },
  {
   "cell_type": "code",
   "execution_count": 15,
   "metadata": {
    "collapsed": false
   },
   "outputs": [
    {
     "data": {
      "text/plain": [
       "<matplotlib.axes._subplots.AxesSubplot at 0x967fcc0>"
      ]
     },
     "execution_count": 15,
     "metadata": {},
     "output_type": "execute_result"
    },
    {
     "data": {
      "image/png": "[encoded data removed]",
      "text/plain": [
       "<matplotlib.figure.Figure at 0x9533898>"
      ]
     },
     "metadata": {},
     "output_type": "display_data"
    }
   ],
   "source": [
    "# \n",
    "def get_stats(key):\n",
    "    return [titanic_filt_title_stats[val].loc[key] for val in [\"count\", \"mean\", \"std\"]]\n",
    "miss_n, miss_mean, miss_std = get_stats(\"Miss\")\n",
    "mrs_n, mrs_mean, mrs_std = get_stats(\"Mrs\")\n",
    "rng=[0,80]\n",
    "bins=16\n",
    "width=(max(rng) - min(rng)) / bins\n",
    "titanic[titanic[\"Title\"].isin([\"Miss\", \"Mrs\"])][\"Age\"].hist(fc=(1,1,1,.1),range=[0,80], bins=16, width=5)\n",
    "titanic_filt_title.groupby(\"Title\").get_group(\"Miss\")[\"Age\"].hist(fc=(0,1,1,.5),range=[0,80], bins=16, width=2.5)\n",
    "titanic_filt_title.groupby(\"Title\").get_group(\"Mrs\")[\"Age\"].hist(fc=(1,1,0,.5),range=[0,80], bins=16, width=2.5, align=\"right\")"
   ]
  },
  {
   "cell_type": "markdown",
   "metadata": {},
   "source": [
    "My original idea was to perform a t-test on these distributions, which in hindsight doesn't seem useful.\n",
    "- When looking at the total age distribution of Miss and Mrs combined, more were on board in their 20s up until their 40s than other age groups. This means the data gravitates towards that range on the x-axis. Not having uniformly distributed Age data means the distributions of both groups get pulled towards the region with the highest frequency.\n",
    "- Children can't get married before 12 (and likely have little interest to), so they would pull the average Age for a Miss down, whereas once people are married and stay that way, then the longer they live, the more they pull the average up. All in all, I conclude that comparing means doesn't make much sense.\n",
    "\n",
    "A few things we can observe are:\n",
    "- Again, the youngest married women on board was 14\n",
    "- Proportionally, the majority shifts from being unmarried to married around the age of 30\n",
    "- Being single is of all ages :)"
   ]
  },
  {
   "cell_type": "markdown",
   "metadata": {},
   "source": [
    "### Correlation between age and fare\n",
    "\n",
    "Next I want to check whether there is a correlation between age and fare paid.\n",
    "\n",
    "For this I'll generate a scatterplot for both values, and compute Pearson's r to check if there is a correlation between the two. The closer r will be to 0, the more independent both variables are."
   ]
  },
  {
   "cell_type": "code",
   "execution_count": 16,
   "metadata": {
    "collapsed": false
   },
   "outputs": [
    {
     "data": {
      "text/plain": [
       "(0, 80)"
      ]
     },
     "execution_count": 16,
     "metadata": {},
     "output_type": "execute_result"
    },
    {
     "data": {
      "image/png": "[encoded data removed]",
      "text/plain": [
       "<matplotlib.figure.Figure at 0x950cc88>"
      ]
     },
     "metadata": {},
     "output_type": "display_data"
    }
   ],
   "source": [
    "# plt.scatter(titanic.groupby(\"Title\").get_group(\"Mr\")[\"Age\"], titanic.groupby(\"Title\").get_group(\"Mr\")[\"Fare\"])\n",
    "plt.scatter(titanic[\"Age\"], titanic[\"Fare\"])\n",
    "plt.ylim(0,600)\n",
    "plt.xlim(0,80)"
   ]
  },
  {
   "cell_type": "code",
   "execution_count": 17,
   "metadata": {
    "collapsed": false
   },
   "outputs": [
    {
     "data": {
      "text/html": [
       "<div>\n",
       "<table border=\"1\" class=\"dataframe\">\n",
       "  <thead>\n",
       "    <tr style=\"text-align: right;\">\n",
       "      <th></th>\n",
       "      <th>Age</th>\n",
       "      <th>Fare</th>\n",
       "    </tr>\n",
       "  </thead>\n",
       "  <tbody>\n",
       "    <tr>\n",
       "      <th>Age</th>\n",
       "      <td>1.000000</td>\n",
       "      <td>0.096067</td>\n",
       "    </tr>\n",
       "    <tr>\n",
       "      <th>Fare</th>\n",
       "      <td>0.096067</td>\n",
       "      <td>1.000000</td>\n",
       "    </tr>\n",
       "  </tbody>\n",
       "</table>\n",
       "</div>"
      ],
      "text/plain": [
       "           Age      Fare\n",
       "Age   1.000000  0.096067\n",
       "Fare  0.096067  1.000000"
      ]
     },
     "metadata": {},
     "output_type": "display_data"
    },
    {
     "data": {
      "text/plain": [
       "891"
      ]
     },
     "metadata": {},
     "output_type": "display_data"
    }
   ],
   "source": [
    "# Calculate Pearson's r\n",
    "display(titanic[[\"Age\",\"Fare\"]].corr())\n",
    "display(len(titanic))"
   ]
  },
  {
   "cell_type": "markdown",
   "metadata": {},
   "source": [
    "According to GraphPad, this correlation for an r of 0.096 and 889 (N - 2) degrees of freedom has a P of 0.0041, meaning a 0.4% probability that fare paid and age are independend, which is very significant."
   ]
  },
  {
   "cell_type": "markdown",
   "metadata": {},
   "source": [
    "### Survival Rate based on Family Members\n",
    "\n",
    "The following is a graph showing the survivalrate per amount of familymembers."
   ]
  },
  {
   "cell_type": "code",
   "execution_count": 18,
   "metadata": {
    "collapsed": false
   },
   "outputs": [
    {
     "data": {
      "text/plain": [
       "Family\n",
       "0     0.303538\n",
       "1     0.552795\n",
       "2     0.578431\n",
       "3     0.724138\n",
       "4     0.200000\n",
       "5     0.136364\n",
       "6     0.333333\n",
       "7     0.000000\n",
       "10    0.000000\n",
       "Name: Survived, dtype: float64"
      ]
     },
     "metadata": {},
     "output_type": "display_data"
    },
    {
     "data": {
      "text/plain": [
       "[<matplotlib.lines.Line2D at 0xa5cb908>]"
      ]
     },
     "execution_count": 18,
     "metadata": {},
     "output_type": "execute_result"
    },
    {
     "data": {
      "image/png": "[encoded data removed]",
      "text/plain": [
       "<matplotlib.figure.Figure at 0x8e90b70>"
      ]
     },
     "metadata": {},
     "output_type": "display_data"
    }
   ],
   "source": [
    "display(titanic.groupby(\"Family\")[\"Survived\"].mean())\n",
    "plt.plot(titanic.groupby(\"Family\").groups.keys(), titanic.groupby(\"Family\")[\"Survived\"].mean())"
   ]
  },
  {
   "cell_type": "markdown",
   "metadata": {},
   "source": [
    "As we can see, there seems to be an optimal amount of family members for survival rate, at 3 family members for a survival rate of 72.4%.\n",
    "\n",
    "A possible explanation for this is that a few people helping eachother out is better than nobody, but after a group reaches a critical size, it becomes harder to take care of everybody. The larger groups may be unable to save loved ones, or decide to stay together behind, not surviving themselves in the process."
   ]
  },
  {
   "cell_type": "markdown",
   "metadata": {},
   "source": [
    "## Summary\n",
    "\n",
    "Obviously many more questions can be asked from this dataset.\n",
    "\n",
    "Through several tests and visualizations, I've concluded the following:\n",
    "- Adult females had significantly higher chances of survival than children, who had higher chances of survival than adult men\n",
    "- The youngest married woman on board was 14, and married women became the majority at 30 years of age\n",
    "- There is a dependency between fare paid and age\n",
    "- There seemed to be an optimal amount of family members for chances of survival, being 3 people"
   ]
  },
  {
   "cell_type": "markdown",
   "metadata": {},
   "source": [
    "---\n",
    "## References\n",
    "\n",
    "- Looked up what the ticket numbers meant: https://www.kaggle.com/c/titanic/discussion/11127#81589\n",
    "- Refreshing my memory on how to add a new column in a dataframe with results data: http://stackoverflow.com/questions/14059094/i-want-to-multiply-two-columns-in-a-pandas-dataframe-and-add-the-result-into-a-n\n",
    "- How to remove a pandas column: http://pandas.pydata.org/pandas-docs/version/0.17.0/generated/pandas.DataFrame.drop.html\n",
    "- Lookup how to get a table for a specific grouped value: http://stackoverflow.com/questions/22691010/how-to-print-a-groupby-object\n",
    "- Calculated frequencies from a histogram can be stored: http://stackoverflow.com/questions/19442224/getting-information-for-bins-in-matplotlib-histogram-function\n",
    "- pandas unstack function, when I wanted to display my gender/children data more clearly: http://pandas.pydata.org/pandas-docs/stable/generated/pandas.DataFrame.unstack.html\n",
    "- Concat function to create a dataframe of 2 Series: http://stackoverflow.com/questions/18062135/combining-two-series-into-a-dataframe-in-pandas\n",
    "- Giving a series a name: http://pandas.pydata.org/pandas-docs/stable/generated/pandas.Series.rename.html\n",
    "- Manipulating pandas dataframe index: http://pandas.pydata.org/pandas-docs/stable/advanced.html\n",
    "- Refreshing my memory for chi^2 tests: http://stattrek.com/chi-square-test/independence.aspx?Tutorial=AP\n",
    "- Information about people's titles: https://en.wikipedia.org/wiki/Title\n",
    "- How to filter groups by expression: http://stackoverflow.com/questions/34690756/pandas-remove-group-from-the-data-when-a-value-in-the-group-meets-a-required-co\n",
    "- How to filter a dataframe based on one of multiple values: http://stackoverflow.com/questions/12096252/use-a-list-of-values-to-select-rows-from-a-pandas-dataframe\n",
    "- Legal age to marry in the early 1900s: http://www.genesreunited.co.uk/boards/board/genealogy_chat/thread/863837\n",
    "- Pandas function for calculating Pearson's r: http://pandas.pydata.org/pandas-docs/stable/generated/pandas.DataFrame.corr.html\n",
    "- How to get a list of names of generated groups: http://stackoverflow.com/questions/28844535/python-pandas-groupby-get-list-of-groups"
   ]
  }
 ],
 "metadata": {
  "anaconda-cloud": {},
  "kernelspec": {
   "display_name": "Python [conda env:DAND]",
   "language": "python",
   "name": "conda-env-DAND-py"
  },
  "language_info": {
   "codemirror_mode": {
    "name": "ipython",
    "version": 2
   },
   "file_extension": ".py",
   "mimetype": "text/x-python",
   "name": "python",
   "nbconvert_exporter": "python",
   "pygments_lexer": "ipython2",
   "version": "2.7.12"
  }
 },
 "nbformat": 4,
 "nbformat_minor": 2
}
